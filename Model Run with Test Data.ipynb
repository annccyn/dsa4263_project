{
 "cells": [
  {
   "cell_type": "code",
   "execution_count": 1,
   "metadata": {
    "ExecuteTime": {
     "end_time": "2025-04-14T04:52:13.692276Z",
     "start_time": "2025-04-14T04:52:13.686851Z"
    }
   },
   "outputs": [],
   "source": [
    "from sklearn.ensemble import RandomForestClassifier\n",
    "from sklearn.preprocessing import StandardScaler\n",
    "from sklearn.model_selection import GridSearchCV, StratifiedKFold, cross_val_predict\n",
    "from sklearn.metrics import accuracy_score, precision_score, recall_score, f1_score, roc_auc_score, confusion_matrix\n",
    "from sklearn.pipeline import Pipeline\n",
    "from sklearn.feature_selection import SelectFromModel\n",
    "from sklearn.linear_model import Lasso\n",
    "from sklearn.compose import ColumnTransformer\n",
    "from sklearn.preprocessing import OneHotEncoder, MinMaxScaler\n",
    "from imblearn.pipeline import Pipeline\n",
    "from imblearn.over_sampling import SMOTENC\n",
    "from imblearn.under_sampling import RandomUnderSampler\n",
    "import numpy as np\n",
    "import pandas as pd\n",
    "import matplotlib.pyplot as plt\n",
    "import seaborn as sns\n",
    "\n",
    "\n",
    "import warnings \n",
    "warnings.filterwarnings('ignore')"
   ]
  },
  {
   "cell_type": "code",
   "execution_count": 2,
   "metadata": {
    "ExecuteTime": {
     "end_time": "2025-04-14T04:52:18.803356Z",
     "start_time": "2025-04-14T04:52:13.708432Z"
    }
   },
   "outputs": [],
   "source": [
    "# Load train and test data\n",
    "train_df = pd.read_csv(\"../data/train_data.csv\")\n",
    "test_df = pd.read_csv(\"../data/test_data.csv\")"
   ]
  },
  {
   "cell_type": "code",
   "execution_count": null,
   "metadata": {
    "ExecuteTime": {
     "end_time": "2025-04-14T04:52:22.514677Z",
     "start_time": "2025-04-14T04:52:18.816828Z"
    }
   },
   "outputs": [],
   "source": [
    "# Assign `is_fraud` column as y\n",
    "X_train = train_df.loc[:, train_df.columns != 'is_fraud']\n",
    "y_train = train_df['is_fraud']\n",
    "\n",
    "X_test = test_df.loc[:, test_df.columns != 'is_fraud']\n",
    "y_test = test_df['is_fraud']\n",
    "\n",
    "# Standardize numerical columns\n",
    "# scaler_train = StandardScaler()\n",
    "\n",
    "# X_train[numeric_cols_train.columns] = scaler_train.fit_transform(numeric_cols_train)\n",
    "\n",
    "# scaler_test = StandardScaler()\n",
    "# numeric_cols_test = X_test.select_dtypes(include=['number'])\n",
    "# X_test[numeric_cols_test.columns] = scaler_test.fit_transform(numeric_cols_test)"
   ]
  },
  {
   "cell_type": "markdown",
   "metadata": {},
   "source": [
    "#### Random UnderSampling"
   ]
  },
  {
   "cell_type": "code",
   "execution_count": 4,
   "metadata": {
    "ExecuteTime": {
     "end_time": "2025-04-14T04:52:22.839792Z",
     "start_time": "2025-04-14T04:52:22.548763Z"
    }
   },
   "outputs": [
    {
     "name": "stdout",
     "output_type": "stream",
     "text": [
      "Size of X_train after random undersampling: 80256\n"
     ]
    }
   ],
   "source": [
    "# Apply random undersampling to train dataset\n",
    "rus = RandomUnderSampler(sampling_strategy=0.1, random_state=123)\n",
    "X_train_rus, y_train_rus = rus.fit_resample(X_train, y_train)\n",
    "print(f'Size of X_train after random undersampling: {len(X_train_rus)}')"
   ]
  },
  {
   "cell_type": "markdown",
   "metadata": {},
   "source": [
    "#### Smote-NC"
   ]
  },
  {
   "cell_type": "code",
   "execution_count": 5,
   "metadata": {
    "ExecuteTime": {
     "end_time": "2025-04-14T04:52:32.753058Z",
     "start_time": "2025-04-14T04:52:22.866044Z"
    }
   },
   "outputs": [
    {
     "name": "stdout",
     "output_type": "stream",
     "text": [
      "Train data size:109440\n",
      "Fraud proportion in train data: 0.33\n"
     ]
    }
   ],
   "source": [
    "# Obtain indices for categorical variables\n",
    "categorical_columns = X_train.select_dtypes(include=['object', 'category']).columns\n",
    "categorical_columns_idx = [X_train.columns.get_loc(c) for c in categorical_columns]\n",
    "\n",
    "# Apply SMOTE-NC on training data\n",
    "sm = SMOTENC(categorical_features=categorical_columns_idx, random_state=123, sampling_strategy=0.5)\n",
    "X_train_smote, y_train_smote = sm.fit_resample(X_train_rus, y_train_rus)\n",
    "\n",
    "print(f'Train data size:{len(X_train_smote)}')\n",
    "print(f'Fraud proportion in train data: {round(y_train_smote.mean(), 2)}')"
   ]
  },
  {
   "cell_type": "markdown",
   "metadata": {},
   "source": [
    "### One-Hot Encoding"
   ]
  },
  {
   "cell_type": "code",
   "execution_count": null,
   "metadata": {
    "ExecuteTime": {
     "end_time": "2025-04-14T04:52:34.621982Z",
     "start_time": "2025-04-14T04:52:32.787991Z"
    }
   },
   "outputs": [
    {
     "name": "stdout",
     "output_type": "stream",
     "text": [
      "Number of columns after one-hot encoding: 541\n"
     ]
    }
   ],
   "source": [
    "# # Apply one-hot encoding on train and test data\n",
    "# X_train_ohe = pd.get_dummies(X_train_smote, drop_first = True)\n",
    "# X_test_ohe = pd.get_dummies(X_test, drop_first = True)\n",
    "# X_test_ohe = X_test_ohe.reindex(columns=X_train_ohe.columns, fill_value=0)\n",
    "\n",
    "# print(f'Number of columns after one-hot encoding: {len(X_train_ohe.columns)}')"
   ]
  },
  {
   "cell_type": "markdown",
   "metadata": {},
   "source": [
    "### Pipeline with Lasso (training)"
   ]
  },
  {
   "cell_type": "code",
   "execution_count": 14,
   "metadata": {},
   "outputs": [],
   "source": [
    "numeric_columns = X_train.select_dtypes(include=['number']).columns.tolist()\n",
    "preprocessor=ColumnTransformer(\n",
    "    transformers=[\n",
    "        ('cat', OneHotEncoder(handle_unknown='ignore', sparse_output=False),\n",
    "categorical_columns),\n",
    "        ('num', MinMaxScaler(), numeric_columns)\n",
    "    ]\n",
    ")"
   ]
  },
  {
   "cell_type": "code",
   "execution_count": 29,
   "metadata": {
    "ExecuteTime": {
     "end_time": "2025-04-14T04:56:42.738882Z",
     "start_time": "2025-04-14T04:52:34.695273Z"
    }
   },
   "outputs": [
    {
     "name": "stdout",
     "output_type": "stream",
     "text": [
      "Fitting 5 folds for each of 16 candidates, totalling 80 fits\n"
     ]
    },
    {
     "name": "stderr",
     "output_type": "stream",
     "text": [
      "Python(63650) MallocStackLogging: can't turn off malloc stack logging because it was not enabled.\n",
      "Python(63651) MallocStackLogging: can't turn off malloc stack logging because it was not enabled.\n",
      "Python(63652) MallocStackLogging: can't turn off malloc stack logging because it was not enabled.\n",
      "Python(63653) MallocStackLogging: can't turn off malloc stack logging because it was not enabled.\n",
      "Python(63654) MallocStackLogging: can't turn off malloc stack logging because it was not enabled.\n",
      "Python(63655) MallocStackLogging: can't turn off malloc stack logging because it was not enabled.\n",
      "Python(63656) MallocStackLogging: can't turn off malloc stack logging because it was not enabled.\n",
      "Python(63657) MallocStackLogging: can't turn off malloc stack logging because it was not enabled.\n"
     ]
    },
    {
     "name": "stdout",
     "output_type": "stream",
     "text": [
      "[CV] END classifier__criterion=gini, classifier__max_depth=3, classifier__max_features=sqrt, classifier__n_estimators=5; total time=  26.1s\n",
      "[CV] END classifier__criterion=gini, classifier__max_depth=3, classifier__max_features=sqrt, classifier__n_estimators=5; total time=  25.5s\n",
      "[CV] END classifier__criterion=gini, classifier__max_depth=3, classifier__max_features=sqrt, classifier__n_estimators=3; total time=  27.0s\n",
      "[CV] END classifier__criterion=gini, classifier__max_depth=3, classifier__max_features=sqrt, classifier__n_estimators=3; total time=  33.2s\n",
      "[CV] END classifier__criterion=gini, classifier__max_depth=3, classifier__max_features=sqrt, classifier__n_estimators=3; total time=  33.2s\n",
      "[CV] END classifier__criterion=gini, classifier__max_depth=3, classifier__max_features=sqrt, classifier__n_estimators=3; total time=  33.2s\n",
      "[CV] END classifier__criterion=gini, classifier__max_depth=3, classifier__max_features=sqrt, classifier__n_estimators=3; total time=  33.0s\n",
      "[CV] END classifier__criterion=gini, classifier__max_depth=3, classifier__max_features=sqrt, classifier__n_estimators=5; total time=  33.0s\n",
      "[CV] END classifier__criterion=gini, classifier__max_depth=3, classifier__max_features=10, classifier__n_estimators=3; total time=  13.7s\n",
      "[CV] END classifier__criterion=gini, classifier__max_depth=3, classifier__max_features=sqrt, classifier__n_estimators=5; total time=  36.4s\n",
      "[CV] END classifier__criterion=gini, classifier__max_depth=3, classifier__max_features=sqrt, classifier__n_estimators=5; total time=  36.8s\n",
      "[CV] END classifier__criterion=gini, classifier__max_depth=3, classifier__max_features=10, classifier__n_estimators=5; total time=  43.8s\n",
      "[CV] END classifier__criterion=gini, classifier__max_depth=3, classifier__max_features=10, classifier__n_estimators=3; total time=  56.2s\n",
      "[CV] END classifier__criterion=gini, classifier__max_depth=3, classifier__max_features=10, classifier__n_estimators=3; total time=  55.8s\n",
      "[CV] END classifier__criterion=gini, classifier__max_depth=3, classifier__max_features=10, classifier__n_estimators=3; total time= 1.0min\n",
      "[CV] END classifier__criterion=gini, classifier__max_depth=3, classifier__max_features=10, classifier__n_estimators=3; total time= 1.0min\n",
      "[CV] END classifier__criterion=gini, classifier__max_depth=3, classifier__max_features=10, classifier__n_estimators=5; total time= 1.2min\n",
      "[CV] END classifier__criterion=gini, classifier__max_depth=3, classifier__max_features=10, classifier__n_estimators=5; total time= 1.2min\n",
      "[CV] END classifier__criterion=gini, classifier__max_depth=3, classifier__max_features=10, classifier__n_estimators=5; total time= 1.7min\n",
      "[CV] END classifier__criterion=gini, classifier__max_depth=5, classifier__max_features=sqrt, classifier__n_estimators=3; total time=  46.8s\n",
      "[CV] END classifier__criterion=gini, classifier__max_depth=5, classifier__max_features=sqrt, classifier__n_estimators=3; total time=  52.0s\n",
      "[CV] END classifier__criterion=gini, classifier__max_depth=5, classifier__max_features=sqrt, classifier__n_estimators=3; total time=  47.8s\n",
      "[CV] END classifier__criterion=gini, classifier__max_depth=5, classifier__max_features=sqrt, classifier__n_estimators=3; total time=  53.8s\n",
      "[CV] END classifier__criterion=gini, classifier__max_depth=3, classifier__max_features=10, classifier__n_estimators=5; total time=  56.5s\n",
      "[CV] END classifier__criterion=gini, classifier__max_depth=5, classifier__max_features=sqrt, classifier__n_estimators=3; total time=  46.2s\n",
      "[CV] END classifier__criterion=gini, classifier__max_depth=5, classifier__max_features=sqrt, classifier__n_estimators=5; total time=  43.4s\n",
      "[CV] END classifier__criterion=gini, classifier__max_depth=5, classifier__max_features=sqrt, classifier__n_estimators=5; total time=  42.9s\n",
      "[CV] END classifier__criterion=gini, classifier__max_depth=5, classifier__max_features=10, classifier__n_estimators=3; total time=  36.5s\n",
      "[CV] END classifier__criterion=gini, classifier__max_depth=5, classifier__max_features=10, classifier__n_estimators=3; total time=  36.2s\n",
      "[CV] END classifier__criterion=gini, classifier__max_depth=5, classifier__max_features=sqrt, classifier__n_estimators=5; total time=  39.6s\n",
      "[CV] END classifier__criterion=gini, classifier__max_depth=5, classifier__max_features=sqrt, classifier__n_estimators=5; total time=  38.1s\n",
      "[CV] END classifier__criterion=gini, classifier__max_depth=5, classifier__max_features=sqrt, classifier__n_estimators=5; total time=  37.5s\n",
      "[CV] END classifier__criterion=gini, classifier__max_depth=5, classifier__max_features=10, classifier__n_estimators=5; total time=  43.5s\n",
      "[CV] END classifier__criterion=gini, classifier__max_depth=5, classifier__max_features=10, classifier__n_estimators=3; total time=  44.6s\n",
      "[CV] END classifier__criterion=gini, classifier__max_depth=5, classifier__max_features=10, classifier__n_estimators=3; total time=  44.3s\n",
      "[CV] END classifier__criterion=gini, classifier__max_depth=5, classifier__max_features=10, classifier__n_estimators=5; total time=  43.2s\n",
      "[CV] END classifier__criterion=gini, classifier__max_depth=5, classifier__max_features=10, classifier__n_estimators=3; total time=  44.6s\n",
      "[CV] END classifier__criterion=gini, classifier__max_depth=5, classifier__max_features=10, classifier__n_estimators=5; total time=  43.7s\n",
      "[CV] END classifier__criterion=gini, classifier__max_depth=5, classifier__max_features=10, classifier__n_estimators=5; total time=  44.9s\n",
      "[CV] END classifier__criterion=gini, classifier__max_depth=5, classifier__max_features=10, classifier__n_estimators=5; total time=  45.4s\n",
      "[CV] END classifier__criterion=entropy, classifier__max_depth=3, classifier__max_features=sqrt, classifier__n_estimators=3; total time=  44.5s\n",
      "[CV] END classifier__criterion=entropy, classifier__max_depth=3, classifier__max_features=sqrt, classifier__n_estimators=5; total time=  41.4s\n",
      "[CV] END classifier__criterion=entropy, classifier__max_depth=3, classifier__max_features=sqrt, classifier__n_estimators=3; total time=  44.2s\n",
      "[CV] END classifier__criterion=entropy, classifier__max_depth=3, classifier__max_features=sqrt, classifier__n_estimators=5; total time=  43.5s\n",
      "[CV] END classifier__criterion=entropy, classifier__max_depth=3, classifier__max_features=sqrt, classifier__n_estimators=3; total time=  44.1s\n",
      "[CV] END classifier__criterion=entropy, classifier__max_depth=3, classifier__max_features=sqrt, classifier__n_estimators=3; total time=  44.2s\n",
      "[CV] END classifier__criterion=entropy, classifier__max_depth=3, classifier__max_features=sqrt, classifier__n_estimators=3; total time=  44.0s\n",
      "[CV] END classifier__criterion=entropy, classifier__max_depth=3, classifier__max_features=sqrt, classifier__n_estimators=5; total time=  43.3s\n",
      "[CV] END classifier__criterion=entropy, classifier__max_depth=3, classifier__max_features=sqrt, classifier__n_estimators=5; total time=  38.8s\n",
      "[CV] END classifier__criterion=entropy, classifier__max_depth=3, classifier__max_features=10, classifier__n_estimators=3; total time=  38.9s\n",
      "[CV] END classifier__criterion=entropy, classifier__max_depth=3, classifier__max_features=10, classifier__n_estimators=3; total time=  39.5s\n",
      "[CV] END classifier__criterion=entropy, classifier__max_depth=3, classifier__max_features=10, classifier__n_estimators=3; total time=  39.8s\n",
      "[CV] END classifier__criterion=entropy, classifier__max_depth=3, classifier__max_features=10, classifier__n_estimators=5; total time=  38.6s\n",
      "[CV] END classifier__criterion=entropy, classifier__max_depth=3, classifier__max_features=sqrt, classifier__n_estimators=5; total time=  40.5s\n",
      "[CV] END classifier__criterion=entropy, classifier__max_depth=3, classifier__max_features=10, classifier__n_estimators=3; total time=  40.6s\n",
      "[CV] END classifier__criterion=entropy, classifier__max_depth=3, classifier__max_features=10, classifier__n_estimators=3; total time=  41.0s\n",
      "[CV] END classifier__criterion=entropy, classifier__max_depth=3, classifier__max_features=10, classifier__n_estimators=5; total time=  25.4s\n",
      "[CV] END classifier__criterion=entropy, classifier__max_depth=3, classifier__max_features=10, classifier__n_estimators=5; total time=  28.6s\n",
      "[CV] END classifier__criterion=entropy, classifier__max_depth=5, classifier__max_features=sqrt, classifier__n_estimators=3; total time=  29.7s\n",
      "[CV] END classifier__criterion=entropy, classifier__max_depth=5, classifier__max_features=sqrt, classifier__n_estimators=3; total time=  29.5s\n",
      "[CV] END classifier__criterion=entropy, classifier__max_depth=3, classifier__max_features=10, classifier__n_estimators=5; total time=  30.2s\n",
      "[CV] END classifier__criterion=entropy, classifier__max_depth=5, classifier__max_features=sqrt, classifier__n_estimators=3; total time=  29.3s\n",
      "[CV] END classifier__criterion=entropy, classifier__max_depth=3, classifier__max_features=10, classifier__n_estimators=5; total time=  30.1s\n",
      "[CV] END classifier__criterion=entropy, classifier__max_depth=5, classifier__max_features=sqrt, classifier__n_estimators=3; total time=  30.2s\n",
      "[CV] END classifier__criterion=entropy, classifier__max_depth=5, classifier__max_features=sqrt, classifier__n_estimators=3; total time=  12.3s\n",
      "[CV] END classifier__criterion=entropy, classifier__max_depth=5, classifier__max_features=sqrt, classifier__n_estimators=5; total time=  30.6s\n",
      "[CV] END classifier__criterion=entropy, classifier__max_depth=5, classifier__max_features=sqrt, classifier__n_estimators=5; total time=  36.8s\n",
      "[CV] END classifier__criterion=entropy, classifier__max_depth=5, classifier__max_features=sqrt, classifier__n_estimators=5; total time=  38.1s\n",
      "[CV] END classifier__criterion=entropy, classifier__max_depth=5, classifier__max_features=sqrt, classifier__n_estimators=5; total time=  37.6s\n",
      "[CV] END classifier__criterion=entropy, classifier__max_depth=5, classifier__max_features=sqrt, classifier__n_estimators=5; total time=  38.0s\n",
      "[CV] END classifier__criterion=entropy, classifier__max_depth=5, classifier__max_features=10, classifier__n_estimators=3; total time=  37.7s\n",
      "[CV] END classifier__criterion=entropy, classifier__max_depth=5, classifier__max_features=10, classifier__n_estimators=3; total time=  38.0s\n",
      "[CV] END classifier__criterion=entropy, classifier__max_depth=5, classifier__max_features=10, classifier__n_estimators=3; total time=  32.6s\n",
      "[CV] END classifier__criterion=entropy, classifier__max_depth=5, classifier__max_features=10, classifier__n_estimators=3; total time=  11.1s\n",
      "[CV] END classifier__criterion=entropy, classifier__max_depth=5, classifier__max_features=10, classifier__n_estimators=5; total time=  52.9s\n",
      "[CV] END classifier__criterion=entropy, classifier__max_depth=5, classifier__max_features=10, classifier__n_estimators=3; total time=  54.9s\n",
      "[CV] END classifier__criterion=entropy, classifier__max_depth=5, classifier__max_features=10, classifier__n_estimators=5; total time=  53.4s\n",
      "[CV] END classifier__criterion=entropy, classifier__max_depth=5, classifier__max_features=10, classifier__n_estimators=5; total time=  53.7s\n",
      "[CV] END classifier__criterion=entropy, classifier__max_depth=5, classifier__max_features=10, classifier__n_estimators=5; total time=  52.4s\n",
      "[CV] END classifier__criterion=entropy, classifier__max_depth=5, classifier__max_features=10, classifier__n_estimators=5; total time=  54.0s\n"
     ]
    }
   ],
   "source": [
    "# Define the pipeline with Lasso for feature selection followed by RandomForest\n",
    "lasso_pipe = Pipeline([\n",
    "    ('preprocessor', preprocessor),\n",
    "    ('feature_selection', SelectFromModel(Lasso(alpha=0.01))),\n",
    "    ('classifier', RandomForestClassifier(random_state=123))\n",
    "])\n",
    "\n",
    "# Define parameter grid\n",
    "param_grid = {\n",
    "    'classifier__n_estimators': [3,5],\n",
    "    'classifier__max_features': ['sqrt', 10],\n",
    "    'classifier__max_depth': [3, 5],\n",
    "    'classifier__criterion': ['gini', 'entropy']\n",
    "}\n",
    "\n",
    "# Set up GridSearchCV\n",
    "cv_lasso_pipe = GridSearchCV(\n",
    "    estimator=lasso_pipe,\n",
    "    param_grid=param_grid,\n",
    "    cv=5,\n",
    "    n_jobs=-1,\n",
    "    verbose=2,\n",
    "    scoring='f1'\n",
    ")\n",
    "\n",
    "# Fit the grid search\n",
    "cv_lasso_pipe.fit(X_train_smote, y_train_smote)\n",
    "\n",
    "# Get the best model\n",
    "best_lasso_pipe = cv_lasso_pipe.best_estimator_\n",
    "\n"
   ]
  },
  {
   "cell_type": "code",
   "execution_count": 30,
   "metadata": {},
   "outputs": [
    {
     "name": "stdout",
     "output_type": "stream",
     "text": [
      "\n",
      "Lasso Pipeline Results:\n",
      "accuracy: 0.9897934941520468, precision: 0.986289519973351, recall: 0.9909745065789474, f1: 0.9885732760851105\n",
      "AUC: 0.99\n"
     ]
    },
    {
     "data": {
      "image/png": "[encoded data removed]",
      "text/plain": [
       "<Figure size 800x600 with 2 Axes>"
      ]
     },
     "metadata": {},
     "output_type": "display_data"
    }
   ],
   "source": [
    "# Evaluate using cross-validation\n",
    "sk_folds_lasso = StratifiedKFold(5, shuffle=True, random_state=123)\n",
    "y_pred_lasso_pipe = cross_val_predict(best_lasso_pipe, X_train_smote, y_train_smote, cv=sk_folds_lasso)\n",
    "\n",
    "# Calculate metrics\n",
    "auc_lasso_pipe = roc_auc_score(y_train_smote, y_pred_lasso_pipe)\n",
    "print(\"\\nLasso Pipeline Results:\")\n",
    "print(f\"accuracy: {accuracy_score(y_train_smote, y_pred_lasso_pipe)}, \"\n",
    "      f\"precision: {precision_score(y_train_smote, y_pred_lasso_pipe, average='macro', zero_division=0.0)}, \"\n",
    "      f\"recall: {recall_score(y_train_smote, y_pred_lasso_pipe, average='macro')}, \"\n",
    "      f\"f1: {f1_score(y_train_smote, y_pred_lasso_pipe, average='macro', zero_division=0.0)}\")\n",
    "print(f'AUC: {round(auc_lasso_pipe, 2)}')\n",
    "\n",
    "# Plot confusion matrix\n",
    "plt.figure(figsize=(8, 6))\n",
    "cm_lasso = confusion_matrix(y_train_smote, y_pred_lasso_pipe)\n",
    "\n",
    "# Format text in boxes\n",
    "group_counts = [\"{0:g}\".format(value) for value in cm_lasso.flatten()]\n",
    "group_percentages = [\"{0:.3f}\".format(value) for value in cm_lasso.flatten()/np.sum(cm_lasso)]\n",
    "values = [f\"{v1}\\n{v2}\" for v1, v2 in zip(group_counts, group_percentages)]\n",
    "values = np.asarray(values).reshape(2, 2)\n",
    "\n",
    "# Create plot for Lasso Pipeline\n",
    "ax = plt.subplot()\n",
    "sns.heatmap(cm_lasso, annot=values, fmt='')\n",
    "\n",
    "ax.set_xlabel('Predicted labels')\n",
    "ax.set_ylabel('True labels')\n",
    "ax.set_title('Confusion Matrix - Lasso Pipeline')\n",
    "ax.xaxis.set_ticklabels(['Not fraud', 'Fraud'])\n",
    "ax.yaxis.set_ticklabels(['Not fraud', 'Fraud'], rotation=0)\n",
    "plt.tight_layout()\n",
    "plt.show()\n",
    "\n"
   ]
  },
  {
   "cell_type": "code",
   "execution_count": 31,
   "metadata": {},
   "outputs": [
    {
     "name": "stdout",
     "output_type": "stream",
     "text": [
      "Chosen hyperparameters: {'classifier__criterion': 'gini', 'classifier__max_depth': 3, 'classifier__max_features': 'sqrt', 'classifier__n_estimators': 3}\n",
      "Selected features:\n",
      "1. num__prev_trans_fraud\n",
      "2. num__visited_cat\n",
      "\n",
      "Total selected features: 2 out of 548\n",
      "\n",
      "Top 10 most important features:\n",
      "                 Feature  Importance\n",
      "0  num__prev_trans_fraud    0.808604\n",
      "1       num__visited_cat    0.191396\n"
     ]
    }
   ],
   "source": [
    "# Report chosen hyperparameters\n",
    "print(f'Chosen hyperparameters: {cv_lasso_pipe.best_params_}')\n",
    "\n",
    "# Get feature names after preprocessing\n",
    "preprocessor = best_lasso_pipe.named_steps['preprocessor']\n",
    "preprocessed_features = preprocessor.get_feature_names_out()\n",
    "\n",
    "# Identify which features were selected\n",
    "selected_features_mask = best_lasso_pipe.named_steps['feature_selection'].get_support()\n",
    "selected_features = preprocessed_features[selected_features_mask]  # Use preprocessed_features instead of X_train_smote.columns\n",
    "\n",
    "# Print selected features \n",
    "print(\"Selected features:\")\n",
    "for i, feature in enumerate(selected_features):\n",
    "    print(f\"{i+1}. {feature}\")\n",
    "\n",
    "# Print total count\n",
    "print(f\"\\nTotal selected features: {len(selected_features)} out of {len(preprocessed_features)}\")\n",
    "\n",
    "# Get feature importances from the classifier\n",
    "feature_importances = best_lasso_pipe.named_steps['classifier'].feature_importances_\n",
    "\n",
    "# Create dataframe of importances\n",
    "importance_df = pd.DataFrame({\n",
    "    'Feature': selected_features,\n",
    "    'Importance': feature_importances\n",
    "})\n",
    "\n",
    "print('\\nTop 10 most important features:')\n",
    "print(importance_df.sort_values(by='Importance', ascending=False)[:10])"
   ]
  },
  {
   "cell_type": "code",
   "execution_count": 32,
   "metadata": {},
   "outputs": [
    {
     "name": "stdout",
     "output_type": "stream",
     "text": [
      "['num__prev_trans_fraud' 'num__visited_cat']\n"
     ]
    }
   ],
   "source": [
    "print(selected_features)"
   ]
  },
  {
   "cell_type": "markdown",
   "metadata": {},
   "source": [
    "### Performance on Test Data"
   ]
  },
  {
   "cell_type": "code",
   "execution_count": 33,
   "metadata": {},
   "outputs": [
    {
     "name": "stdout",
     "output_type": "stream",
     "text": [
      "\n",
      "Test Data Results:\n",
      "Accuracy: 0.9848\n",
      "Precision: 0.5878\n",
      "Recall: 0.9924\n",
      "F1 Score: 0.6456\n",
      "AUC: 0.9924\n"
     ]
    },
    {
     "data": {
      "image/png": "[encoded data removed]",
      "text/plain": [
       "<Figure size 800x600 with 2 Axes>"
      ]
     },
     "metadata": {},
     "output_type": "display_data"
    }
   ],
   "source": [
    "# Use the best model from grid search to predict on test data\n",
    "\n",
    "y_pred_test = best_lasso_pipe.predict(X_test)\n",
    "\n",
    "# Calculate evaluation metrics on test data\n",
    "test_accuracy = accuracy_score(y_test, y_pred_test)\n",
    "test_precision = precision_score(y_test, y_pred_test, average='macro', zero_division=0.0)\n",
    "test_recall = recall_score(y_test, y_pred_test, average='macro')\n",
    "test_f1 = f1_score(y_test, y_pred_test, average='macro', zero_division=0.0)\n",
    "test_auc = roc_auc_score(y_test, y_pred_test)\n",
    "\n",
    "# Print test metrics\n",
    "print(\"\\nTest Data Results:\")\n",
    "print(f\"Accuracy: {test_accuracy:.4f}\")\n",
    "print(f\"Precision: {test_precision:.4f}\")\n",
    "print(f\"Recall: {test_recall:.4f}\")\n",
    "print(f\"F1 Score: {test_f1:.4f}\")\n",
    "print(f\"AUC: {test_auc:.4f}\")\n",
    "\n",
    "# Plot confusion matrix for test data\n",
    "plt.figure(figsize=(8, 6))\n",
    "cm_test = confusion_matrix(y_test, y_pred_test)\n",
    "\n",
    "# Format text in boxes\n",
    "group_counts = [\"{0:g}\".format(value) for value in cm_test.flatten()]\n",
    "group_percentages = [\"{0:.3f}\".format(value) for value in cm_test.flatten()/np.sum(cm_test)]\n",
    "values = [f\"{v1}\\n{v2}\" for v1, v2 in zip(group_counts, group_percentages)]\n",
    "values = np.asarray(values).reshape(2, 2)\n",
    "\n",
    "# Create plot for test data\n",
    "ax = plt.subplot()\n",
    "sns.heatmap(cm_test, annot=values, fmt='')\n",
    "\n",
    "ax.set_xlabel('Predicted labels')\n",
    "ax.set_ylabel('True labels')\n",
    "ax.set_title('Confusion Matrix - Test Data')\n",
    "ax.xaxis.set_ticklabels(['Not fraud', 'Fraud'])\n",
    "ax.yaxis.set_ticklabels(['Not fraud', 'Fraud'], rotation=0)\n",
    "plt.tight_layout()\n",
    "plt.show()"
   ]
  },
  {
   "cell_type": "markdown",
   "metadata": {},
   "source": [
    "### Manual Run on Test Data"
   ]
  },
  {
   "cell_type": "code",
   "execution_count": 8,
   "metadata": {},
   "outputs": [
    {
     "name": "stdout",
     "output_type": "stream",
     "text": [
      "Test Results:\n",
      "Accuracy: 0.9062\n",
      "Precision: 0.5166\n",
      "Recall: 0.9518\n",
      "F1 Score: 0.5075\n",
      "AUC: 0.9979\n"
     ]
    },
    {
     "data": {
      "image/png": "[encoded data removed]",
      "text/plain": [
       "<Figure size 800x600 with 2 Axes>"
      ]
     },
     "metadata": {},
     "output_type": "display_data"
    },
    {
     "name": "stdout",
     "output_type": "stream",
     "text": [
      "\n",
      "Feature Importance:\n",
      "                     Feature  Importance\n",
      "2           prev_trans_fraud    0.381784\n",
      "7                visited_cat    0.283025\n",
      "0                        amt    0.132076\n",
      "4  merchant_prev_trans_fraud    0.095805\n",
      "3          count_fraud_7days    0.038741\n",
      "1                       hour    0.035300\n",
      "6          hourly_risk_score    0.025735\n",
      "5   merchant_acc_fraud_count    0.006326\n",
      "8      first_second_purchase    0.001210\n"
     ]
    }
   ],
   "source": [
    "selected_features = ['amt', 'hour', 'prev_trans_fraud', 'count_fraud_7days', \n",
    "                     'merchant_prev_trans_fraud', 'merchant_acc_fraud_count', \n",
    "                     'hourly_risk_score', 'visited_cat', 'first_second_purchase']\n",
    "\n",
    "\n",
    "X_test_selected_ohe = X_test_ohe[selected_features]\n",
    "\n",
    "# Create the Random Forest model with your chosen hyperparameters\n",
    "rf_model = RandomForestClassifier(\n",
    "    criterion='entropy',\n",
    "    max_depth=15,\n",
    "    max_features='sqrt',\n",
    "    n_estimators=150,\n",
    "    random_state=123  # using same random state for reproducibility\n",
    ")\n",
    "\n",
    "# Train the model on your training data with selected features\n",
    "rf_model.fit(X_train_ohe[selected_features], y_train_smote)\n",
    "\n",
    "# Make predictions on test data\n",
    "y_pred = rf_model.predict(X_test_selected_ohe)\n",
    "y_pred_proba = rf_model.predict_proba(X_test_selected_ohe)[:, 1]  # Probability of fraud class\n",
    "\n",
    "# Calculate evaluation metrics\n",
    "accuracy = accuracy_score(y_test, y_pred)\n",
    "precision = precision_score(y_test, y_pred, average='macro', zero_division=0.0)\n",
    "recall = recall_score(y_test, y_pred, average='macro')\n",
    "f1 = f1_score(y_test, y_pred, average='macro', zero_division=0.0)\n",
    "auc = roc_auc_score(y_test, y_pred_proba)\n",
    "\n",
    "# Print the results\n",
    "print(\"Test Results:\")\n",
    "print(f\"Accuracy: {accuracy:.4f}\")\n",
    "print(f\"Precision: {precision:.4f}\")\n",
    "print(f\"Recall: {recall:.4f}\")\n",
    "print(f\"F1 Score: {f1:.4f}\")\n",
    "print(f\"AUC: {auc:.4f}\")\n",
    "\n",
    "# Generate confusion matrix\n",
    "cm = confusion_matrix(y_test, y_pred)\n",
    "\n",
    "# Plot the confusion matrix\n",
    "plt.figure(figsize=(8, 6))\n",
    "# Format text in boxes\n",
    "group_counts = [\"{0:g}\".format(value) for value in cm.flatten()]\n",
    "group_percentages = [\"{0:.3f}\".format(value) for value in cm.flatten()/np.sum(cm)]\n",
    "values = [f\"{v1}\\n{v2}\" for v1, v2 in zip(group_counts, group_percentages)]\n",
    "values = np.asarray(values).reshape(2, 2)\n",
    "\n",
    "# Create plot for test data\n",
    "ax = plt.subplot()\n",
    "sns.heatmap(cm, annot=values, fmt='')\n",
    "\n",
    "ax.set_xlabel('Predicted labels')\n",
    "ax.set_ylabel('True labels')\n",
    "ax.set_title('Confusion Matrix - Test Data')\n",
    "ax.xaxis.set_ticklabels(['Not fraud', 'Fraud'])\n",
    "ax.yaxis.set_ticklabels(['Not fraud', 'Fraud'], rotation=0)\n",
    "plt.tight_layout()\n",
    "plt.show()\n",
    "\n",
    "# Display feature importances\n",
    "feature_importance = pd.DataFrame({\n",
    "    'Feature': selected_features,\n",
    "    'Importance': rf_model.feature_importances_\n",
    "}).sort_values('Importance', ascending=False)\n",
    "\n",
    "print(\"\\nFeature Importance:\")\n",
    "print(feature_importance)"
   ]
  }
 ],
 "metadata": {
  "kernelspec": {
   "display_name": "Python 3",
   "language": "python",
   "name": "python3"
  },
  "language_info": {
   "codemirror_mode": {
    "name": "ipython",
    "version": 3
   },
   "file_extension": ".py",
   "mimetype": "text/x-python",
   "name": "python",
   "nbconvert_exporter": "python",
   "pygments_lexer": "ipython3",
   "version": "3.12.0"
  }
 },
 "nbformat": 4,
 "nbformat_minor": 2
}
