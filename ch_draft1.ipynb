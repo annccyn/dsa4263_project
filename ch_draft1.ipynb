{
 "cells": [
  {
   "cell_type": "markdown",
   "metadata": {},
   "source": [
    "Import dependencies"
   ]
  },
  {
   "cell_type": "code",
   "execution_count": 1,
   "metadata": {},
   "outputs": [
    {
     "name": "stderr",
     "output_type": "stream",
     "text": [
      "c:\\Users\\user\\AppData\\Local\\Programs\\Python\\Python310\\lib\\site-packages\\tqdm\\auto.py:21: TqdmWarning: IProgress not found. Please update jupyter and ipywidgets. See https://ipywidgets.readthedocs.io/en/stable/user_install.html\n",
      "  from .autonotebook import tqdm as notebook_tqdm\n"
     ]
    }
   ],
   "source": [
    "from datasets import load_dataset\n",
    "import pandas as pd\n",
    "from datetime import datetime\n",
    "import matplotlib.pyplot as plt\n",
    "import seaborn as sns"
   ]
  },
  {
   "cell_type": "markdown",
   "metadata": {},
   "source": [
    "# Loading Dataset"
   ]
  },
  {
   "cell_type": "code",
   "execution_count": 2,
   "metadata": {},
   "outputs": [],
   "source": [
    "# https://huggingface.co/datasets/Nooha/cc_fraud_detection_dataset\n",
    "original_ds = load_dataset(\"Nooha/cc_fraud_detection_dataset\")"
   ]
  },
  {
   "cell_type": "code",
   "execution_count": 3,
   "metadata": {},
   "outputs": [],
   "source": [
    "# convert to df\n",
    "df_train=original_ds['train'].to_pandas()"
   ]
  },
  {
   "cell_type": "markdown",
   "metadata": {},
   "source": [
    "## Inspecting dataset"
   ]
  },
  {
   "cell_type": "code",
   "execution_count": 4,
   "metadata": {},
   "outputs": [
    {
     "data": {
      "text/html": [
       "<div>\n",
       "<style scoped>\n",
       "    .dataframe tbody tr th:only-of-type {\n",
       "        vertical-align: middle;\n",
       "    }\n",
       "\n",
       "    .dataframe tbody tr th {\n",
       "        vertical-align: top;\n",
       "    }\n",
       "\n",
       "    .dataframe thead th {\n",
       "        text-align: right;\n",
       "    }\n",
       "</style>\n",
       "<table border=\"1\" class=\"dataframe\">\n",
       "  <thead>\n",
       "    <tr style=\"text-align: right;\">\n",
       "      <th></th>\n",
       "      <th>ssn</th>\n",
       "      <th>cc_num</th>\n",
       "      <th>first</th>\n",
       "      <th>last</th>\n",
       "      <th>gender</th>\n",
       "      <th>city</th>\n",
       "      <th>state</th>\n",
       "      <th>zip</th>\n",
       "      <th>city_pop</th>\n",
       "      <th>job</th>\n",
       "      <th>dob</th>\n",
       "      <th>acct_num</th>\n",
       "      <th>trans_num</th>\n",
       "      <th>trans_date</th>\n",
       "      <th>trans_time</th>\n",
       "      <th>unix_time</th>\n",
       "      <th>category</th>\n",
       "      <th>amt</th>\n",
       "      <th>is_fraud</th>\n",
       "      <th>merchant</th>\n",
       "    </tr>\n",
       "  </thead>\n",
       "  <tbody>\n",
       "    <tr>\n",
       "      <th>0</th>\n",
       "      <td>367-85-9826</td>\n",
       "      <td>4361337605230458</td>\n",
       "      <td>Kristie</td>\n",
       "      <td>Davis</td>\n",
       "      <td>F</td>\n",
       "      <td>Chandler</td>\n",
       "      <td>OK</td>\n",
       "      <td>74834</td>\n",
       "      <td>7590</td>\n",
       "      <td>Chief Strategy Officer</td>\n",
       "      <td>1987-06-12</td>\n",
       "      <td>349734538563</td>\n",
       "      <td>c036244703adb9d5392f4027d9d4b38d</td>\n",
       "      <td>2021-07-31</td>\n",
       "      <td>02:30:01</td>\n",
       "      <td>1627678801</td>\n",
       "      <td>grocery_pos</td>\n",
       "      <td>337.54</td>\n",
       "      <td>1</td>\n",
       "      <td>fraud_Kovacek</td>\n",
       "    </tr>\n",
       "    <tr>\n",
       "      <th>1</th>\n",
       "      <td>367-85-9826</td>\n",
       "      <td>4361337605230458</td>\n",
       "      <td>Kristie</td>\n",
       "      <td>Davis</td>\n",
       "      <td>F</td>\n",
       "      <td>Chandler</td>\n",
       "      <td>OK</td>\n",
       "      <td>74834</td>\n",
       "      <td>7590</td>\n",
       "      <td>Chief Strategy Officer</td>\n",
       "      <td>1987-06-12</td>\n",
       "      <td>349734538563</td>\n",
       "      <td>42f000b0b3b0ef534e5b8ef9ec1db13a</td>\n",
       "      <td>2021-08-01</td>\n",
       "      <td>22:37:41</td>\n",
       "      <td>1627837661</td>\n",
       "      <td>personal_care</td>\n",
       "      <td>21.13</td>\n",
       "      <td>1</td>\n",
       "      <td>fraud_Bradtke</td>\n",
       "    </tr>\n",
       "    <tr>\n",
       "      <th>2</th>\n",
       "      <td>367-85-9826</td>\n",
       "      <td>4361337605230458</td>\n",
       "      <td>Kristie</td>\n",
       "      <td>Davis</td>\n",
       "      <td>F</td>\n",
       "      <td>Chandler</td>\n",
       "      <td>OK</td>\n",
       "      <td>74834</td>\n",
       "      <td>7590</td>\n",
       "      <td>Chief Strategy Officer</td>\n",
       "      <td>1987-06-12</td>\n",
       "      <td>349734538563</td>\n",
       "      <td>543037b1baf088961e58d00b705f4bcc</td>\n",
       "      <td>2021-08-01</td>\n",
       "      <td>23:02:09</td>\n",
       "      <td>1627839129</td>\n",
       "      <td>personal_care</td>\n",
       "      <td>22.61</td>\n",
       "      <td>1</td>\n",
       "      <td>fraud_Kozey-Kuhlman</td>\n",
       "    </tr>\n",
       "    <tr>\n",
       "      <th>3</th>\n",
       "      <td>367-85-9826</td>\n",
       "      <td>4361337605230458</td>\n",
       "      <td>Kristie</td>\n",
       "      <td>Davis</td>\n",
       "      <td>F</td>\n",
       "      <td>Chandler</td>\n",
       "      <td>OK</td>\n",
       "      <td>74834</td>\n",
       "      <td>7590</td>\n",
       "      <td>Chief Strategy Officer</td>\n",
       "      <td>1987-06-12</td>\n",
       "      <td>349734538563</td>\n",
       "      <td>00a4e08643edebf9277c2967676f6a26</td>\n",
       "      <td>2021-08-01</td>\n",
       "      <td>22:27:24</td>\n",
       "      <td>1627837044</td>\n",
       "      <td>health_fitness</td>\n",
       "      <td>17.32</td>\n",
       "      <td>1</td>\n",
       "      <td>fraud_Hills</td>\n",
       "    </tr>\n",
       "    <tr>\n",
       "      <th>4</th>\n",
       "      <td>367-85-9826</td>\n",
       "      <td>4361337605230458</td>\n",
       "      <td>Kristie</td>\n",
       "      <td>Davis</td>\n",
       "      <td>F</td>\n",
       "      <td>Chandler</td>\n",
       "      <td>OK</td>\n",
       "      <td>74834</td>\n",
       "      <td>7590</td>\n",
       "      <td>Chief Strategy Officer</td>\n",
       "      <td>1987-06-12</td>\n",
       "      <td>349734538563</td>\n",
       "      <td>492c4412815306718f686fc5b459a285</td>\n",
       "      <td>2021-12-02</td>\n",
       "      <td>02:28:51</td>\n",
       "      <td>1638392331</td>\n",
       "      <td>misc_pos</td>\n",
       "      <td>75.82</td>\n",
       "      <td>0</td>\n",
       "      <td>fraud_Kemmer-Buckridge</td>\n",
       "    </tr>\n",
       "  </tbody>\n",
       "</table>\n",
       "</div>"
      ],
      "text/plain": [
       "           ssn            cc_num    first   last gender      city state  \\\n",
       "0  367-85-9826  4361337605230458  Kristie  Davis      F  Chandler    OK   \n",
       "1  367-85-9826  4361337605230458  Kristie  Davis      F  Chandler    OK   \n",
       "2  367-85-9826  4361337605230458  Kristie  Davis      F  Chandler    OK   \n",
       "3  367-85-9826  4361337605230458  Kristie  Davis      F  Chandler    OK   \n",
       "4  367-85-9826  4361337605230458  Kristie  Davis      F  Chandler    OK   \n",
       "\n",
       "     zip  city_pop                     job         dob      acct_num  \\\n",
       "0  74834      7590  Chief Strategy Officer  1987-06-12  349734538563   \n",
       "1  74834      7590  Chief Strategy Officer  1987-06-12  349734538563   \n",
       "2  74834      7590  Chief Strategy Officer  1987-06-12  349734538563   \n",
       "3  74834      7590  Chief Strategy Officer  1987-06-12  349734538563   \n",
       "4  74834      7590  Chief Strategy Officer  1987-06-12  349734538563   \n",
       "\n",
       "                          trans_num  trans_date trans_time   unix_time  \\\n",
       "0  c036244703adb9d5392f4027d9d4b38d  2021-07-31   02:30:01  1627678801   \n",
       "1  42f000b0b3b0ef534e5b8ef9ec1db13a  2021-08-01   22:37:41  1627837661   \n",
       "2  543037b1baf088961e58d00b705f4bcc  2021-08-01   23:02:09  1627839129   \n",
       "3  00a4e08643edebf9277c2967676f6a26  2021-08-01   22:27:24  1627837044   \n",
       "4  492c4412815306718f686fc5b459a285  2021-12-02   02:28:51  1638392331   \n",
       "\n",
       "         category     amt  is_fraud                merchant  \n",
       "0     grocery_pos  337.54         1           fraud_Kovacek  \n",
       "1   personal_care   21.13         1           fraud_Bradtke  \n",
       "2   personal_care   22.61         1     fraud_Kozey-Kuhlman  \n",
       "3  health_fitness   17.32         1             fraud_Hills  \n",
       "4        misc_pos   75.82         0  fraud_Kemmer-Buckridge  "
      ]
     },
     "execution_count": 4,
     "metadata": {},
     "output_type": "execute_result"
    }
   ],
   "source": [
    "df_train.head()"
   ]
  },
  {
   "cell_type": "markdown",
   "metadata": {},
   "source": [
    "## Remove useless columns"
   ]
  },
  {
   "cell_type": "code",
   "execution_count": 5,
   "metadata": {},
   "outputs": [
    {
     "data": {
      "text/html": [
       "<div>\n",
       "<style scoped>\n",
       "    .dataframe tbody tr th:only-of-type {\n",
       "        vertical-align: middle;\n",
       "    }\n",
       "\n",
       "    .dataframe tbody tr th {\n",
       "        vertical-align: top;\n",
       "    }\n",
       "\n",
       "    .dataframe thead th {\n",
       "        text-align: right;\n",
       "    }\n",
       "</style>\n",
       "<table border=\"1\" class=\"dataframe\">\n",
       "  <thead>\n",
       "    <tr style=\"text-align: right;\">\n",
       "      <th></th>\n",
       "      <th>ssn</th>\n",
       "      <th>cc_num</th>\n",
       "      <th>gender</th>\n",
       "      <th>city</th>\n",
       "      <th>state</th>\n",
       "      <th>zip</th>\n",
       "      <th>city_pop</th>\n",
       "      <th>job</th>\n",
       "      <th>dob</th>\n",
       "      <th>acct_num</th>\n",
       "      <th>trans_date</th>\n",
       "      <th>trans_time</th>\n",
       "      <th>unix_time</th>\n",
       "      <th>category</th>\n",
       "      <th>amt</th>\n",
       "      <th>is_fraud</th>\n",
       "      <th>merchant</th>\n",
       "    </tr>\n",
       "  </thead>\n",
       "  <tbody>\n",
       "    <tr>\n",
       "      <th>0</th>\n",
       "      <td>367-85-9826</td>\n",
       "      <td>4361337605230458</td>\n",
       "      <td>F</td>\n",
       "      <td>Chandler</td>\n",
       "      <td>OK</td>\n",
       "      <td>74834</td>\n",
       "      <td>7590</td>\n",
       "      <td>Chief Strategy Officer</td>\n",
       "      <td>1987-06-12</td>\n",
       "      <td>349734538563</td>\n",
       "      <td>2021-07-31</td>\n",
       "      <td>02:30:01</td>\n",
       "      <td>1627678801</td>\n",
       "      <td>grocery_pos</td>\n",
       "      <td>337.54</td>\n",
       "      <td>1</td>\n",
       "      <td>fraud_Kovacek</td>\n",
       "    </tr>\n",
       "    <tr>\n",
       "      <th>1</th>\n",
       "      <td>367-85-9826</td>\n",
       "      <td>4361337605230458</td>\n",
       "      <td>F</td>\n",
       "      <td>Chandler</td>\n",
       "      <td>OK</td>\n",
       "      <td>74834</td>\n",
       "      <td>7590</td>\n",
       "      <td>Chief Strategy Officer</td>\n",
       "      <td>1987-06-12</td>\n",
       "      <td>349734538563</td>\n",
       "      <td>2021-08-01</td>\n",
       "      <td>22:37:41</td>\n",
       "      <td>1627837661</td>\n",
       "      <td>personal_care</td>\n",
       "      <td>21.13</td>\n",
       "      <td>1</td>\n",
       "      <td>fraud_Bradtke</td>\n",
       "    </tr>\n",
       "    <tr>\n",
       "      <th>2</th>\n",
       "      <td>367-85-9826</td>\n",
       "      <td>4361337605230458</td>\n",
       "      <td>F</td>\n",
       "      <td>Chandler</td>\n",
       "      <td>OK</td>\n",
       "      <td>74834</td>\n",
       "      <td>7590</td>\n",
       "      <td>Chief Strategy Officer</td>\n",
       "      <td>1987-06-12</td>\n",
       "      <td>349734538563</td>\n",
       "      <td>2021-08-01</td>\n",
       "      <td>23:02:09</td>\n",
       "      <td>1627839129</td>\n",
       "      <td>personal_care</td>\n",
       "      <td>22.61</td>\n",
       "      <td>1</td>\n",
       "      <td>fraud_Kozey-Kuhlman</td>\n",
       "    </tr>\n",
       "    <tr>\n",
       "      <th>3</th>\n",
       "      <td>367-85-9826</td>\n",
       "      <td>4361337605230458</td>\n",
       "      <td>F</td>\n",
       "      <td>Chandler</td>\n",
       "      <td>OK</td>\n",
       "      <td>74834</td>\n",
       "      <td>7590</td>\n",
       "      <td>Chief Strategy Officer</td>\n",
       "      <td>1987-06-12</td>\n",
       "      <td>349734538563</td>\n",
       "      <td>2021-08-01</td>\n",
       "      <td>22:27:24</td>\n",
       "      <td>1627837044</td>\n",
       "      <td>health_fitness</td>\n",
       "      <td>17.32</td>\n",
       "      <td>1</td>\n",
       "      <td>fraud_Hills</td>\n",
       "    </tr>\n",
       "    <tr>\n",
       "      <th>4</th>\n",
       "      <td>367-85-9826</td>\n",
       "      <td>4361337605230458</td>\n",
       "      <td>F</td>\n",
       "      <td>Chandler</td>\n",
       "      <td>OK</td>\n",
       "      <td>74834</td>\n",
       "      <td>7590</td>\n",
       "      <td>Chief Strategy Officer</td>\n",
       "      <td>1987-06-12</td>\n",
       "      <td>349734538563</td>\n",
       "      <td>2021-12-02</td>\n",
       "      <td>02:28:51</td>\n",
       "      <td>1638392331</td>\n",
       "      <td>misc_pos</td>\n",
       "      <td>75.82</td>\n",
       "      <td>0</td>\n",
       "      <td>fraud_Kemmer-Buckridge</td>\n",
       "    </tr>\n",
       "    <tr>\n",
       "      <th>...</th>\n",
       "      <td>...</td>\n",
       "      <td>...</td>\n",
       "      <td>...</td>\n",
       "      <td>...</td>\n",
       "      <td>...</td>\n",
       "      <td>...</td>\n",
       "      <td>...</td>\n",
       "      <td>...</td>\n",
       "      <td>...</td>\n",
       "      <td>...</td>\n",
       "      <td>...</td>\n",
       "      <td>...</td>\n",
       "      <td>...</td>\n",
       "      <td>...</td>\n",
       "      <td>...</td>\n",
       "      <td>...</td>\n",
       "      <td>...</td>\n",
       "    </tr>\n",
       "    <tr>\n",
       "      <th>2646689</th>\n",
       "      <td>751-28-9829</td>\n",
       "      <td>4888818930461631</td>\n",
       "      <td>F</td>\n",
       "      <td>Pleasant Garden</td>\n",
       "      <td>NC</td>\n",
       "      <td>27313</td>\n",
       "      <td>6962</td>\n",
       "      <td>Museum/gallery curator</td>\n",
       "      <td>1969-09-14</td>\n",
       "      <td>834942757900</td>\n",
       "      <td>2023-06-02</td>\n",
       "      <td>22:05:19</td>\n",
       "      <td>1685723719</td>\n",
       "      <td>kids_pets</td>\n",
       "      <td>5.10</td>\n",
       "      <td>0</td>\n",
       "      <td>fraud_Cartwright PLC</td>\n",
       "    </tr>\n",
       "    <tr>\n",
       "      <th>2646690</th>\n",
       "      <td>751-28-9829</td>\n",
       "      <td>4888818930461631</td>\n",
       "      <td>F</td>\n",
       "      <td>Pleasant Garden</td>\n",
       "      <td>NC</td>\n",
       "      <td>27313</td>\n",
       "      <td>6962</td>\n",
       "      <td>Museum/gallery curator</td>\n",
       "      <td>1969-09-14</td>\n",
       "      <td>834942757900</td>\n",
       "      <td>2023-07-27</td>\n",
       "      <td>12:19:49</td>\n",
       "      <td>1690440589</td>\n",
       "      <td>kids_pets</td>\n",
       "      <td>7.05</td>\n",
       "      <td>0</td>\n",
       "      <td>fraud_Waelchi Inc</td>\n",
       "    </tr>\n",
       "    <tr>\n",
       "      <th>2646691</th>\n",
       "      <td>751-28-9829</td>\n",
       "      <td>4888818930461631</td>\n",
       "      <td>F</td>\n",
       "      <td>Pleasant Garden</td>\n",
       "      <td>NC</td>\n",
       "      <td>27313</td>\n",
       "      <td>6962</td>\n",
       "      <td>Museum/gallery curator</td>\n",
       "      <td>1969-09-14</td>\n",
       "      <td>834942757900</td>\n",
       "      <td>2023-10-13</td>\n",
       "      <td>20:40:24</td>\n",
       "      <td>1697209824</td>\n",
       "      <td>personal_care</td>\n",
       "      <td>2.31</td>\n",
       "      <td>0</td>\n",
       "      <td>fraud_Emmerich-Rau</td>\n",
       "    </tr>\n",
       "    <tr>\n",
       "      <th>2646692</th>\n",
       "      <td>751-28-9829</td>\n",
       "      <td>4888818930461631</td>\n",
       "      <td>F</td>\n",
       "      <td>Pleasant Garden</td>\n",
       "      <td>NC</td>\n",
       "      <td>27313</td>\n",
       "      <td>6962</td>\n",
       "      <td>Museum/gallery curator</td>\n",
       "      <td>1969-09-14</td>\n",
       "      <td>834942757900</td>\n",
       "      <td>2023-05-19</td>\n",
       "      <td>19:03:38</td>\n",
       "      <td>1684503218</td>\n",
       "      <td>home</td>\n",
       "      <td>8.35</td>\n",
       "      <td>0</td>\n",
       "      <td>fraud_Renner Ltd</td>\n",
       "    </tr>\n",
       "    <tr>\n",
       "      <th>2646693</th>\n",
       "      <td>751-28-9829</td>\n",
       "      <td>4888818930461631</td>\n",
       "      <td>F</td>\n",
       "      <td>Pleasant Garden</td>\n",
       "      <td>NC</td>\n",
       "      <td>27313</td>\n",
       "      <td>6962</td>\n",
       "      <td>Museum/gallery curator</td>\n",
       "      <td>1969-09-14</td>\n",
       "      <td>834942757900</td>\n",
       "      <td>2023-07-21</td>\n",
       "      <td>15:25:33</td>\n",
       "      <td>1689933333</td>\n",
       "      <td>kids_pets</td>\n",
       "      <td>129.02</td>\n",
       "      <td>0</td>\n",
       "      <td>fraud_Metz</td>\n",
       "    </tr>\n",
       "  </tbody>\n",
       "</table>\n",
       "<p>2646694 rows × 17 columns</p>\n",
       "</div>"
      ],
      "text/plain": [
       "                 ssn            cc_num gender             city state    zip  \\\n",
       "0        367-85-9826  4361337605230458      F         Chandler    OK  74834   \n",
       "1        367-85-9826  4361337605230458      F         Chandler    OK  74834   \n",
       "2        367-85-9826  4361337605230458      F         Chandler    OK  74834   \n",
       "3        367-85-9826  4361337605230458      F         Chandler    OK  74834   \n",
       "4        367-85-9826  4361337605230458      F         Chandler    OK  74834   \n",
       "...              ...               ...    ...              ...   ...    ...   \n",
       "2646689  751-28-9829  4888818930461631      F  Pleasant Garden    NC  27313   \n",
       "2646690  751-28-9829  4888818930461631      F  Pleasant Garden    NC  27313   \n",
       "2646691  751-28-9829  4888818930461631      F  Pleasant Garden    NC  27313   \n",
       "2646692  751-28-9829  4888818930461631      F  Pleasant Garden    NC  27313   \n",
       "2646693  751-28-9829  4888818930461631      F  Pleasant Garden    NC  27313   \n",
       "\n",
       "         city_pop                     job         dob      acct_num  \\\n",
       "0            7590  Chief Strategy Officer  1987-06-12  349734538563   \n",
       "1            7590  Chief Strategy Officer  1987-06-12  349734538563   \n",
       "2            7590  Chief Strategy Officer  1987-06-12  349734538563   \n",
       "3            7590  Chief Strategy Officer  1987-06-12  349734538563   \n",
       "4            7590  Chief Strategy Officer  1987-06-12  349734538563   \n",
       "...           ...                     ...         ...           ...   \n",
       "2646689      6962  Museum/gallery curator  1969-09-14  834942757900   \n",
       "2646690      6962  Museum/gallery curator  1969-09-14  834942757900   \n",
       "2646691      6962  Museum/gallery curator  1969-09-14  834942757900   \n",
       "2646692      6962  Museum/gallery curator  1969-09-14  834942757900   \n",
       "2646693      6962  Museum/gallery curator  1969-09-14  834942757900   \n",
       "\n",
       "         trans_date trans_time   unix_time        category     amt  is_fraud  \\\n",
       "0        2021-07-31   02:30:01  1627678801     grocery_pos  337.54         1   \n",
       "1        2021-08-01   22:37:41  1627837661   personal_care   21.13         1   \n",
       "2        2021-08-01   23:02:09  1627839129   personal_care   22.61         1   \n",
       "3        2021-08-01   22:27:24  1627837044  health_fitness   17.32         1   \n",
       "4        2021-12-02   02:28:51  1638392331        misc_pos   75.82         0   \n",
       "...             ...        ...         ...             ...     ...       ...   \n",
       "2646689  2023-06-02   22:05:19  1685723719       kids_pets    5.10         0   \n",
       "2646690  2023-07-27   12:19:49  1690440589       kids_pets    7.05         0   \n",
       "2646691  2023-10-13   20:40:24  1697209824   personal_care    2.31         0   \n",
       "2646692  2023-05-19   19:03:38  1684503218            home    8.35         0   \n",
       "2646693  2023-07-21   15:25:33  1689933333       kids_pets  129.02         0   \n",
       "\n",
       "                       merchant  \n",
       "0                 fraud_Kovacek  \n",
       "1                 fraud_Bradtke  \n",
       "2           fraud_Kozey-Kuhlman  \n",
       "3                   fraud_Hills  \n",
       "4        fraud_Kemmer-Buckridge  \n",
       "...                         ...  \n",
       "2646689    fraud_Cartwright PLC  \n",
       "2646690       fraud_Waelchi Inc  \n",
       "2646691      fraud_Emmerich-Rau  \n",
       "2646692        fraud_Renner Ltd  \n",
       "2646693              fraud_Metz  \n",
       "\n",
       "[2646694 rows x 17 columns]"
      ]
     },
     "execution_count": 5,
     "metadata": {},
     "output_type": "execute_result"
    }
   ],
   "source": [
    "df_train.drop(columns=['trans_num','first','last'])"
   ]
  },
  {
   "cell_type": "markdown",
   "metadata": {},
   "source": [
    "## Check for duplication"
   ]
  },
  {
   "cell_type": "code",
   "execution_count": 6,
   "metadata": {},
   "outputs": [
    {
     "data": {
      "text/plain": [
       "ssn           0\n",
       "cc_num        0\n",
       "first         0\n",
       "last          0\n",
       "gender        0\n",
       "city          0\n",
       "state         0\n",
       "zip           0\n",
       "city_pop      0\n",
       "job           0\n",
       "dob           0\n",
       "acct_num      0\n",
       "trans_num     0\n",
       "trans_date    0\n",
       "trans_time    0\n",
       "unix_time     0\n",
       "category      0\n",
       "amt           0\n",
       "is_fraud      0\n",
       "merchant      0\n",
       "dtype: int64"
      ]
     },
     "execution_count": 6,
     "metadata": {},
     "output_type": "execute_result"
    }
   ],
   "source": [
    "df_train.isnull().sum()\n",
    "# no missing values"
   ]
  },
  {
   "cell_type": "markdown",
   "metadata": {},
   "source": [
    "## Fix data types"
   ]
  },
  {
   "cell_type": "code",
   "execution_count": 7,
   "metadata": {},
   "outputs": [
    {
     "data": {
      "text/plain": [
       "ssn            object\n",
       "cc_num          int64\n",
       "first          object\n",
       "last           object\n",
       "gender         object\n",
       "city           object\n",
       "state          object\n",
       "zip             int64\n",
       "city_pop        int64\n",
       "job            object\n",
       "dob            object\n",
       "acct_num        int64\n",
       "trans_num      object\n",
       "trans_date     object\n",
       "trans_time     object\n",
       "unix_time       int64\n",
       "category       object\n",
       "amt           float64\n",
       "is_fraud        int64\n",
       "merchant       object\n",
       "dtype: object"
      ]
     },
     "execution_count": 7,
     "metadata": {},
     "output_type": "execute_result"
    }
   ],
   "source": [
    "# check datatypes\n",
    "df_train.dtypes"
   ]
  },
  {
   "cell_type": "code",
   "execution_count": 8,
   "metadata": {},
   "outputs": [
    {
     "name": "stdout",
     "output_type": "stream",
     "text": [
      "               ssn trans_date        dob\n",
      "0        367859826 2021-07-31 1987-06-12\n",
      "1        367859826 2021-08-01 1987-06-12\n",
      "2        367859826 2021-08-01 1987-06-12\n",
      "3        367859826 2021-08-01 1987-06-12\n",
      "4        367859826 2021-12-02 1987-06-12\n",
      "...            ...        ...        ...\n",
      "2646689  751289829 2023-06-02 1969-09-14\n",
      "2646690  751289829 2023-07-27 1969-09-14\n",
      "2646691  751289829 2023-10-13 1969-09-14\n",
      "2646692  751289829 2023-05-19 1969-09-14\n",
      "2646693  751289829 2023-07-21 1969-09-14\n",
      "\n",
      "[2646694 rows x 3 columns]\n"
     ]
    }
   ],
   "source": [
    "# Convert trans_date, dob, trans_time to datetime\n",
    "df_train[['trans_date','dob']]=df_train[['trans_date','dob']].apply(pd.to_datetime)\n",
    "# extract the hours\n",
    "df_train['trans_time']=pd.to_datetime(df_train['trans_time'], format=\"%H:%M:%S\").dt.time\n",
    "\n",
    "# remove \"-\" in `ssn`\n",
    "df_train['ssn']=df_train['ssn'].str.replace('-','')\n",
    "# convert `ssn` to integer\n",
    "df_train['ssn']=df_train['ssn'].astype(int)\n",
    "\n",
    "print(df_train[['ssn','trans_date','dob']])"
   ]
  },
  {
   "cell_type": "markdown",
   "metadata": {},
   "source": [
    "## Shorten `merchant` values\n",
    "all inputs contain 'fraud_'...\n",
    "input length affects performance of deep learning models (FIND EVIDENCE)"
   ]
  },
  {
   "cell_type": "code",
   "execution_count": 9,
   "metadata": {},
   "outputs": [
    {
     "name": "stdout",
     "output_type": "stream",
     "text": [
      "True\n"
     ]
    },
    {
     "data": {
      "text/plain": [
       "0                   Kovacek\n",
       "1                   Bradtke\n",
       "2             Kozey-Kuhlman\n",
       "3                     Hills\n",
       "4          Kemmer-Buckridge\n",
       "                 ...       \n",
       "2646689      Cartwright PLC\n",
       "2646690         Waelchi Inc\n",
       "2646691        Emmerich-Rau\n",
       "2646692          Renner Ltd\n",
       "2646693                Metz\n",
       "Name: merchant, Length: 2646694, dtype: object"
      ]
     },
     "execution_count": 9,
     "metadata": {},
     "output_type": "execute_result"
    }
   ],
   "source": [
    "# check if all inputs contain 'fraud_'\n",
    "print(df_train['merchant'].str.contains('fraud_').count()==df_train['merchant'].count()) # True\n",
    "df_train['merchant']=df_train['merchant'].str.replace('fraud_','',regex=False)\n",
    "\n",
    "df_train['merchant']"
   ]
  },
  {
   "cell_type": "code",
   "execution_count": 10,
   "metadata": {},
   "outputs": [
    {
     "data": {
      "text/plain": [
       "year\n",
       "2023    884851\n",
       "2022    882285\n",
       "2021    879558\n",
       "Name: count, dtype: int64"
      ]
     },
     "execution_count": 10,
     "metadata": {},
     "output_type": "execute_result"
    }
   ],
   "source": [
    "# split `trans_date into year, month and date for better analysis`\n",
    "df_train['year']=df_train['trans_date'].dt.year\n",
    "df_train['month']=df_train['trans_date'].dt.month\n",
    "df_train['day']=df_train['trans_date'].dt.day\n",
    "\n",
    "# get number of counts for each year\n",
    "df_train['year'].value_counts() # output looks evenly split"
   ]
  },
  {
   "cell_type": "markdown",
   "metadata": {},
   "source": [
    "# Simple Feature Engineering\n",
    "## Creating new variables"
   ]
  },
  {
   "cell_type": "code",
   "execution_count": 11,
   "metadata": {},
   "outputs": [
    {
     "name": "stdout",
     "output_type": "stream",
     "text": [
      "0    37\n",
      "1    37\n",
      "2    37\n",
      "3    37\n",
      "4    37\n",
      "Name: age, dtype: int64\n"
     ]
    }
   ],
   "source": [
    "# Generate `age` from `dob`\n",
    "today= datetime.today()\n",
    "df_train['age']=df_train['dob'].apply(lambda x: today.year-x.year -((today.month,today.day)<(x.month,x.day)))\n",
    "print(df_train['age'].head())"
   ]
  },
  {
   "cell_type": "markdown",
   "metadata": {},
   "source": [
    "# EDA\n",
    "\"identify obvious errors, as well as better understand patterns within the data, detect outliers or anomalous events, find interesting relations among the variables\" - IBM"
   ]
  },
  {
   "cell_type": "code",
   "execution_count": 12,
   "metadata": {},
   "outputs": [],
   "source": [
    "# filter to 2021\n",
    "df_train.head()\n",
    "df1=df_train[(df_train['year']==2021)]"
   ]
  },
  {
   "cell_type": "markdown",
   "metadata": {},
   "source": [
    "## Check if one SSN has multiple credit card numbers"
   ]
  },
  {
   "cell_type": "code",
   "execution_count": 13,
   "metadata": {},
   "outputs": [
    {
     "name": "stdout",
     "output_type": "stream",
     "text": [
      "Empty DataFrame\n",
      "Columns: [ssn, cc_num]\n",
      "Index: []\n"
     ]
    },
    {
     "data": {
      "text/plain": [
       "0.016981047956274458"
      ]
     },
     "execution_count": 13,
     "metadata": {},
     "output_type": "execute_result"
    }
   ],
   "source": [
    "# 1) see if any ssn is linked to multiple credit cards\n",
    "creditcard_count=df1.groupby('ssn')['cc_num'].apply(set).reset_index()\n",
    "print(creditcard_count[creditcard_count['cc_num'].apply(lambda x: len(x)>1)]) # result: 1 ssn linked to only 1 cc_num\n",
    "\n",
    "# 2) check for correlation\n",
    "df1['ssn'].corr(df1['cc_num']) # almost 0 correlation\n",
    "\n",
    "# 1) and 2) gives me conflicting outcomes... so do I remove or not remove 'cc_num'"
   ]
  },
  {
   "cell_type": "code",
   "execution_count": 14,
   "metadata": {},
   "outputs": [
    {
     "name": "stdout",
     "output_type": "stream",
     "text": [
      "               city         state\n",
      "6            Albany      {KY, NY}\n",
      "20          Arcadia      {CA, FL}\n",
      "21        Arlington      {VA, TX}\n",
      "28           Aurora  {NC, CO, IL}\n",
      "29           Austin      {MN, TX}\n",
      "45          Bedford      {MA, NH}\n",
      "49         Bellevue  {WA, NE, MI}\n",
      "52           Belton      {MO, TX}\n",
      "77         Brighton      {MO, MI}\n",
      "93           Camden      {NJ, NY}\n",
      "131        Columbia      {TN, SC}\n",
      "132        Columbus  {NE, OH, MT}\n",
      "133         Concord      {NC, CA}\n",
      "156          Dallas  {PA, TX, GA}\n",
      "160      Darlington      {SC, MD}\n",
      "173           Dover      {DE, PA}\n",
      "192          Elmira      {MI, NY}\n",
      "243        Glendale      {CA, AZ}\n",
      "264        Hamilton      {OH, MT}\n",
      "297         Houston      {MN, TX}\n",
      "302      Huntsville      {AL, TX}\n",
      "312         Jackson      {TN, MI}\n",
      "344       Lancaster      {KY, CA}\n",
      "355       Lexington      {KY, IL}\n",
      "362      Livingston      {NJ, MT}\n",
      "367      Long Beach      {NY, CA}\n",
      "369      Louisville      {KY, AL}\n",
      "375         Madison      {NJ, WI}\n",
      "385          Marion      {NC, OH}\n",
      "431  Mount Pleasant      {TN, SC}\n",
      "471        Oakhurst      {NJ, CA}\n",
      "472         Oakland      {CA, IL}\n",
      "476          Odessa      {FL, TX}\n",
      "521      Plainfield      {NJ, IL}\n",
      "522           Plano      {TX, IL}\n",
      "577           Salem      {NJ, OH}\n",
      "626     Spring Hill      {TN, FL}\n",
      "628     Springfield  {VA, OH, IL}\n",
      "693      Washington  {NJ, DC, IL}\n",
      "702      Waynesboro      {VA, PA}\n",
      "723      Wilmington      {NC, CA}\n",
      "725      Winchester      {OR, IL}\n",
      "733       Woodstock      {NY, IL}\n"
     ]
    },
    {
     "data": {
      "text/plain": [
       "0                 Chandler, OK\n",
       "1                 Chandler, OK\n",
       "2                 Chandler, OK\n",
       "3                 Chandler, OK\n",
       "4                 Chandler, OK\n",
       "                  ...         \n",
       "2646689    Pleasant Garden, NC\n",
       "2646690    Pleasant Garden, NC\n",
       "2646691    Pleasant Garden, NC\n",
       "2646692    Pleasant Garden, NC\n",
       "2646693    Pleasant Garden, NC\n",
       "Name: city_state, Length: 2646694, dtype: object"
      ]
     },
     "execution_count": 14,
     "metadata": {},
     "output_type": "execute_result"
    }
   ],
   "source": [
    "# generate unique states each city appears in\n",
    "city_count=df_train.groupby('city')['state'].apply(set).reset_index()\n",
    "# show cities which exist in multiple states\n",
    "print(city_count[city_count['state'].apply(lambda x: len(x)>1)])\n",
    "\n",
    "# Create `city_state`, since multiple states may have the same city names\n",
    "df_train['city_state']=df_train['city']+\", \"+df_train['state']\n",
    "df_train['city_state']"
   ]
  },
  {
   "cell_type": "markdown",
   "metadata": {},
   "source": [
    "## Higher population leads to higher number of fraud cases"
   ]
  },
  {
   "cell_type": "code",
   "execution_count": 15,
   "metadata": {},
   "outputs": [
    {
     "data": {
      "image/png": "[encoded data removed]",
      "text/plain": [
       "<Figure size 800x600 with 1 Axes>"
      ]
     },
     "metadata": {},
     "output_type": "display_data"
    }
   ],
   "source": [
    "# check if higher population leads to higher fraud cases (since it may be easier to commit fraud) \n",
    "# fraud count per city_pop\n",
    "fraud_count = df1.groupby('city_pop')['is_fraud'].sum().reset_index()\n",
    "\n",
    "plt.figure(figsize=(8, 6))\n",
    "plt.plot('city_pop','is_fraud', data=fraud_count) \n",
    "plt.title('No. of Fraud in City Population')\n",
    "plt.xlabel('City Population')\n",
    "plt.ylabel('Fraud')\n",
    "plt.show()"
   ]
  },
  {
   "cell_type": "markdown",
   "metadata": {},
   "source": [
    "## Some cities may be more popular for committing fraud\n",
    "filter to a random state"
   ]
  },
  {
   "cell_type": "code",
   "execution_count": 16,
   "metadata": {},
   "outputs": [
    {
     "data": {
      "image/png": "[encoded data removed]",
      "text/plain": [
       "<Figure size 800x600 with 1 Axes>"
      ]
     },
     "metadata": {},
     "output_type": "display_data"
    }
   ],
   "source": [
    "# x: city_state, y: fraud_count\n",
    "# fraud count per city_pop, filter to a state to check\n",
    "df_ok=df1[df1['state']==\"OK\"]\n",
    "fraud_count = df_ok.groupby('city')['is_fraud'].sum().reset_index()\n",
    "sorted_fraud=fraud_count.sort_values(by='is_fraud')\n",
    "\n",
    "plt.figure(figsize=(8, 6))\n",
    "plt.bar('city','is_fraud', data=sorted_fraud) \n",
    "plt.title('No. of Fraud in Each City in Oklahoma state')\n",
    "plt.xlabel('City')\n",
    "plt.ylabel('Fraud')\n",
    "plt.xticks(rotation=45)\n",
    "plt.show()"
   ]
  },
  {
   "cell_type": "markdown",
   "metadata": {},
   "source": [
    "## Fraud involves larger sums\n",
    "my output doesn't really reflect that tho"
   ]
  },
  {
   "cell_type": "code",
   "execution_count": 17,
   "metadata": {},
   "outputs": [
    {
     "name": "stderr",
     "output_type": "stream",
     "text": [
      "C:\\Users\\user\\AppData\\Local\\Temp\\ipykernel_1700\\1589795349.py:10: FutureWarning: The default of observed=False is deprecated and will be changed to True in a future version of pandas. Pass observed=False to retain current behavior or observed=True to adopt the future default and silence this warning.\n",
      "  fraud_count.groupby('amt_range')['is_fraud'].sum()\n"
     ]
    },
    {
     "data": {
      "text/plain": [
       "amt_range\n",
       "0-100         678\n",
       "100-500       969\n",
       "500-1000     1232\n",
       "1000-5000     459\n",
       ">5000           0\n",
       "Name: is_fraud, dtype: int64"
      ]
     },
     "execution_count": 17,
     "metadata": {},
     "output_type": "execute_result"
    }
   ],
   "source": [
    "# x: fraud amt, y: fraud count\n",
    "fraud_count = df1.groupby('amt')['is_fraud'].sum().reset_index()\n",
    "fraud_count\n",
    "\n",
    "labels = ['0-100', '100-500', '500-1000', '1000-5000', '>5000']\n",
    "bins = [0, 100, 500, 1000, 5000, float('inf')]\n",
    "\n",
    "# Create a new column with the range\n",
    "fraud_count['amt_range'] = pd.cut(fraud_count['amt'], bins=bins, labels=labels, right=False) # note to myself: look into this concept\n",
    "fraud_count.groupby('amt_range')['is_fraud'].sum()\n",
    "\n",
    "# seems like amt= 500-1000 has the highest count of fraud"
   ]
  },
  {
   "cell_type": "markdown",
   "metadata": {},
   "source": [
    "## Some occupations have higher % of fraud than others\n",
    "Geochemist involved in fraud??? doesn't make sense tho"
   ]
  },
  {
   "cell_type": "code",
   "execution_count": 18,
   "metadata": {},
   "outputs": [
    {
     "name": "stdout",
     "output_type": "stream",
     "text": [
      "                         job  is_fraud  total_count  fraud_percentage\n",
      "0         Academic librarian         0          361          0.000000\n",
      "1      Accommodation manager         0         1535          0.000000\n",
      "2                 Accountant        68         7777          0.874373\n",
      "3      Accounting technician        14         3658          0.382723\n",
      "4                      Actor        46         4383          1.049509\n",
      "..                       ...       ...          ...               ...\n",
      "404           Water engineer         7         1463          0.478469\n",
      "405  Water quality scientist         0          717          0.000000\n",
      "406       Wellsite geologist         0         2154          0.000000\n",
      "407                   Writer        16         1420          1.126761\n",
      "408             Youth worker        11         6542          0.168144\n",
      "\n",
      "[409 rows x 4 columns]\n"
     ]
    },
    {
     "data": {
      "image/png": "[encoded data removed]",
      "text/plain": [
       "<Figure size 800x600 with 1 Axes>"
      ]
     },
     "metadata": {},
     "output_type": "display_data"
    }
   ],
   "source": [
    "# x: city_state, y: fraud_count\n",
    "# fraud count per city_pop, filter to a state to check\n",
    "fraud_count = df1.groupby('job')['is_fraud'].sum().reset_index()\n",
    "\n",
    "# Calculate total transactions by job\n",
    "total_count = df1.groupby('job')['is_fraud'].count().reset_index()\n",
    "total_count.rename(columns={'is_fraud': 'total_count'},inplace=True)\n",
    "\n",
    "\n",
    "# Merge fraud count and total count\n",
    "fraud_percentage = pd.merge(fraud_count, total_count, on='job')\n",
    "\n",
    "\n",
    "# Calculate percentage of fraud\n",
    "fraud_percentage['fraud_percentage'] = (fraud_percentage['is_fraud'] / fraud_percentage['total_count']) * 100\n",
    "top_5=fraud_percentage.sort_values(by='fraud_percentage',ascending=False).head(5)\n",
    "print(fraud_percentage)\n",
    "# show occupations with the highest % of frauds\n",
    "\n",
    "plt.figure(figsize=(8, 6))\n",
    "plt.bar('job','is_fraud', data=top_5) \n",
    "plt.title('Top 5 occupations based on fraud %')\n",
    "plt.xlabel('Job')\n",
    "plt.ylabel('Fraud')\n",
    "plt.xticks(rotation=45)\n",
    "plt.show()"
   ]
  }
 ],
 "metadata": {
  "kernelspec": {
   "display_name": "Python 3",
   "language": "python",
   "name": "python3"
  },
  "language_info": {
   "codemirror_mode": {
    "name": "ipython",
    "version": 3
   },
   "file_extension": ".py",
   "mimetype": "text/x-python",
   "name": "python",
   "nbconvert_exporter": "python",
   "pygments_lexer": "ipython3",
   "version": "3.10.6"
  }
 },
 "nbformat": 4,
 "nbformat_minor": 2
}
