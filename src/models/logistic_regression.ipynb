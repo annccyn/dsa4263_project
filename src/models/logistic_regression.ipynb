{
 "cells": [
  {
   "cell_type": "code",
   "execution_count": 10,
   "id": "68701f9b",
   "metadata": {},
   "outputs": [],
   "source": [
    "# Libraries\n",
    "from datasets import load_dataset\n",
    "\n",
    "import pandas as pd\n",
    "from sklearn.linear_model import LogisticRegression\n",
    "from sklearn.metrics import accuracy_score, f1_score, precision_score, recall_score, confusion_matrix, roc_auc_score"
   ]
  },
  {
   "cell_type": "code",
   "execution_count": null,
   "id": "7f7781de",
   "metadata": {},
   "outputs": [],
   "source": [
    "# https://huggingface.co/datasets/Nooha/cc_fraud_detection_dataset\n",
    "ds = load_dataset(\"Nooha/cc_fraud_detection_dataset\")\n",
    "df = ds[\"train\"].to_pandas() # convert to pandas dataframe"
   ]
  },
  {
   "cell_type": "code",
   "execution_count": 4,
   "id": "6c071720",
   "metadata": {},
   "outputs": [
    {
     "name": "stdout",
     "output_type": "stream",
     "text": [
      "Train-test split size: 75.0/0.25\n"
     ]
    }
   ],
   "source": [
    "# Split into train and test \n",
    "raw_train_df = df.copy()\n",
    "raw_test_df = df.copy()\n",
    "\n",
    "# Train: Jan 2021 - Apr 2023\n",
    "raw_train_df['trans_date'] = pd.to_datetime(raw_train_df['trans_date'], errors = 'coerce')\n",
    "raw_train_df = raw_train_df.loc[raw_train_df['trans_date'] < '2023-05-01']\n",
    "\n",
    "# Test: May 2023 - Dec 2023\n",
    "raw_test_df['trans_date'] = pd.to_datetime(raw_test_df['trans_date'], errors = 'coerce')\n",
    "raw_test_df = raw_test_df.loc[raw_test_df['trans_date'] >= '2023-05-01']\n",
    "\n",
    "# Check train and test data split\n",
    "print(f\"Train-test split size: {round(len(raw_train_df)/len(df), 2) * 100}/{round(len(raw_test_df)/len(df), 2)}\")"
   ]
  },
  {
   "cell_type": "code",
   "execution_count": null,
   "id": "27c5ee38",
   "metadata": {},
   "outputs": [],
   "source": [
    "# Uncomment to save a copy of prepared train and test dfs into csv files\n",
    "#raw_train_df.to_csv(\"../../data/raw_train_data.csv\", index = False)\n",
    "#raw_test_df.to_csv(\"../../data/raw_test_data_raw.csv\", index = False)"
   ]
  },
  {
   "cell_type": "markdown",
   "id": "b54c4ed8",
   "metadata": {},
   "source": [
    "# Preprocessing\n",
    "Drop or alter categorical columns"
   ]
  },
  {
   "cell_type": "code",
   "execution_count": 5,
   "id": "184b44b6",
   "metadata": {},
   "outputs": [],
   "source": [
    "def calc_age(data):\n",
    "    est = data['year'] - data['dob'].year\n",
    "    if (data['trans_date'].month < data['dob'].month) or ((data['trans_date'].month == data['dob'].month) and (data['trans_date'].day < data['dob'].day)):\n",
    "        return est - 1\n",
    "    else:\n",
    "        return est"
   ]
  },
  {
   "cell_type": "code",
   "execution_count": 7,
   "id": "1a1a1aa4",
   "metadata": {},
   "outputs": [],
   "source": [
    "# Apply data cleaning (similar to EDA)\n",
    "def clean_df(df):\n",
    "\n",
    "    # Convert date and time to appropriate data types\n",
    "    df['dob'] = pd.to_datetime(df['dob'], errors = 'coerce') \n",
    "    df['trans_time'] = pd.to_datetime(df['trans_time'], format='%H:%M:%S')\n",
    "\n",
    "    # Extract transaction time features\n",
    "    df['hour'] = df['trans_time'].dt.hour\n",
    "    df['day_of_week'] = df['trans_date'].dt.dayofweek\n",
    "    df['month'] = df['trans_date'].dt.month\n",
    "    df['year'] = df['trans_date'].dt.year\n",
    "    df['trans_datetime'] = pd.to_datetime(df['trans_date'].dt.date.astype(str) + ' ' + df['trans_time'].dt.time.astype(str))\n",
    "\n",
    "    # Sort df by ssn and transaction time\n",
    "    df = df.sort_values(['ssn', 'trans_datetime'])\n",
    "\n",
    "    # Calculate age at the time of the transaction \n",
    "    df['age'] = df.apply(lambda x: calc_age(x), axis = 1)\n",
    "\n",
    "    # Convert gender to binary\n",
    "    df['gender'] = (df['gender'] == 'M').astype(int)\n",
    "\n",
    "    # Convert category to categorical encoding\n",
    "    df['category']=df['category'].astype('category').cat.codes\n",
    "    \n",
    "    # Drop unused columns\n",
    "    df = df.drop(columns=['ssn', 'first', 'last', 'cc_num', 'acct_num', 'city', 'state', 'merchant', 'job', 'trans_datetime', 'unix_time', 'trans_num', 'trans_date', 'trans_time', 'dob'])\n",
    "\n",
    "    return df\n",
    "\n",
    "raw_train = clean_df(raw_train_df)\n",
    "raw_test = clean_df(raw_test_df)"
   ]
  },
  {
   "cell_type": "code",
   "execution_count": 8,
   "id": "a54074d8",
   "metadata": {},
   "outputs": [],
   "source": [
    "y_train, x_train = raw_train['is_fraud'], raw_train.drop(columns=['is_fraud'])\n",
    "y_test, x_test = raw_test['is_fraud'], raw_test.drop(columns=['is_fraud'])\n"
   ]
  },
  {
   "cell_type": "markdown",
   "id": "16be2e8c",
   "metadata": {},
   "source": [
    "# Model"
   ]
  },
  {
   "cell_type": "code",
   "execution_count": 12,
   "id": "2bb97402",
   "metadata": {},
   "outputs": [
    {
     "name": "stderr",
     "output_type": "stream",
     "text": [
      "c:\\Users\\anncy\\anaconda3\\envs\\dsa4263\\Lib\\site-packages\\sklearn\\linear_model\\_sag.py:348: ConvergenceWarning: The max_iter was reached which means the coef_ did not converge\n",
      "  warnings.warn(\n"
     ]
    }
   ],
   "source": [
    "model = LogisticRegression(solver='saga')\n",
    "model.fit(x_train, y_train)\n",
    "\n",
    "y_pred = model.predict(x_test) "
   ]
  },
  {
   "cell_type": "code",
   "execution_count": 13,
   "id": "3e2ab483",
   "metadata": {},
   "outputs": [
    {
     "name": "stdout",
     "output_type": "stream",
     "text": [
      "Accuracy:  0.9967611854122328\n",
      "F1 score:  0.0\n",
      "Precision:  0.0\n"
     ]
    },
    {
     "name": "stderr",
     "output_type": "stream",
     "text": [
      "c:\\Users\\anncy\\anaconda3\\envs\\dsa4263\\Lib\\site-packages\\sklearn\\metrics\\_classification.py:1565: UndefinedMetricWarning: Precision is ill-defined and being set to 0.0 due to no predicted samples. Use `zero_division` parameter to control this behavior.\n",
      "  _warn_prf(average, modifier, f\"{metric.capitalize()} is\", len(result))\n"
     ]
    },
    {
     "name": "stdout",
     "output_type": "stream",
     "text": [
      "Recall: 0.0\n",
      "ROC AUC:  0.5\n"
     ]
    }
   ],
   "source": [
    "accuracy = accuracy_score(y_test, y_pred)\n",
    "print('Accuracy: ', accuracy)\n",
    "f1 = f1_score(y_test, y_pred)\n",
    "print('F1 score: ', f1)\n",
    "precision = precision_score(y_test, y_pred)\n",
    "print('Precision: ', precision)\n",
    "recall = recall_score(y_test, y_pred)\n",
    "print('Recall:', recall)\n",
    "roc_auc = roc_auc_score(y_test, y_pred)\n",
    "print('ROC AUC: ', roc_auc)"
   ]
  },
  {
   "cell_type": "code",
   "execution_count": 15,
   "id": "d8d06a63",
   "metadata": {},
   "outputs": [
    {
     "data": {
      "text/plain": [
       "array([[654287,      0],\n",
       "       [  2126,      0]])"
      ]
     },
     "execution_count": 15,
     "metadata": {},
     "output_type": "execute_result"
    }
   ],
   "source": [
    "confusion = confusion_matrix(y_test, y_pred)\n",
    "confusion"
   ]
  }
 ],
 "metadata": {
  "kernelspec": {
   "display_name": "dsa4263",
   "language": "python",
   "name": "python3"
  },
  "language_info": {
   "codemirror_mode": {
    "name": "ipython",
    "version": 3
   },
   "file_extension": ".py",
   "mimetype": "text/x-python",
   "name": "python",
   "nbconvert_exporter": "python",
   "pygments_lexer": "ipython3",
   "version": "3.13.2"
  }
 },
 "nbformat": 4,
 "nbformat_minor": 5
}
